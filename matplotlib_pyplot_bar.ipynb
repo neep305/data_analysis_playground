{
 "cells": [
  {
   "cell_type": "markdown",
   "metadata": {},
   "source": [
    "# MATPLOTLIB STUDY"
   ]
  },
  {
   "cell_type": "code",
   "execution_count": 2,
   "metadata": {
    "collapsed": true
   },
   "outputs": [],
   "source": [
    "import numpy as np\n",
    "import matplotlib.pyplot as plt\n",
    "%matplotlib inline"
   ]
  },
  {
   "cell_type": "markdown",
   "metadata": {},
   "source": [
    "# API Explanation (from matplotlib.org)\n",
    "\n",
    "- pyplot api : http://matplotlib.org/api/pyplot_api.html\n",
    "- matplotlib.pyplot.bar(left, height, width=0.8, bottom=None, hold=None, data=None, **kwargs)\n",
    "- matplotlib.pyplot.text(x, y, s, fontdict=None, withdash=False, **kwargs)\n",
    "- matplotlib.pyplot.xlim(*args, **kwargs)\n",
    "    <br>Get or set the x limits of the current axes.\n",
    "- matplotlib.pyplot.xticks(*args, **kwargs)\n",
    "    <br>Get or set the x-limits of the current tick locations and labels."
   ]
  },
  {
   "cell_type": "markdown",
   "metadata": {},
   "source": [
    "# Simple Barchart"
   ]
  },
  {
   "cell_type": "code",
   "execution_count": 35,
   "metadata": {
    "collapsed": false
   },
   "outputs": [
    {
     "data": {
      "image/png": "[encoded data removed]",
      "text/plain": [
       "<matplotlib.figure.Figure at 0x10fd4b518>"
      ]
     },
     "metadata": {},
     "output_type": "display_data"
    }
   ],
   "source": [
    "x = np.arange(5)\n",
    "y = [40,69,20,10,95]\n",
    "\n",
    "plt.bar(x,y,facecolor='#99ffdd')\n",
    "plt.title('Bar example')\n",
    "\n",
    "for x1,y1 in zip(x,y):\n",
    "    plt.text(x1+0.4,y1+0.05,y1,ha='center',va='bottom')\n",
    "\n",
    "plt.xlim(-.2,5)\n",
    "plt.ylim(0,110)\n",
    "plt.show()"
   ]
  },
  {
   "cell_type": "markdown",
   "metadata": {},
   "source": [
    "# Dual Barchart"
   ]
  },
  {
   "cell_type": "code",
   "execution_count": 19,
   "metadata": {
    "collapsed": false
   },
   "outputs": [
    {
     "data": {
      "image/png": "[encoded data removed]",
      "text/plain": [
       "<matplotlib.figure.Figure at 0x10fd445f8>"
      ]
     },
     "metadata": {},
     "output_type": "display_data"
    }
   ],
   "source": [
    "n = 12\n",
    "x_axis = np.arange(n)\n",
    "\n",
    "# np.random.uniform(0.5,1.0,n) : 0.5~1.0 사이의 난수를 n개 만큼 발생시킨다. 리턴형 : array\n",
    "y_axis1 = (1 - x_axis/float(n)) * np.random.uniform(0.5,1.0,n)\n",
    "y_axis2 = (1 - x_axis/float(n)) * np.random.uniform(0.5,1.0,n)\n",
    "\n",
    "plt.bar(x_axis, y_axis1, facecolor='#9999ff', edgecolor='black')\n",
    "plt.bar(x_axis, -y_axis2, facecolor='#ff9999', edgecolor='white')\n",
    "\n",
    "# upper bar\n",
    "for x, y in zip(x_axis,y_axis1):\n",
    "    plt.text(x+0.4, y+0.05, '%.2f' % y, ha='center', va='bottom')\n",
    "\n",
    "# bottom bar\n",
    "for x, y in zip(x_axis,y_axis2):\n",
    "    plt.text(x+0.4, -y-0.05, '%.2f' % y, ha='center', va='top') # '%.2f' % y 소수점 2자리까지 출력\n",
    "\n",
    "plt.xlim(-.5,n) # X축 좌표의 범위를 -0.5~12로 제한   \n",
    "# plt.xlim(-.5,n), plt.xticks([])    \n",
    "plt.ylim(-1.25,+1.25) # Y축 좌표의 범위를 -1.25~1.25로 제한\n",
    "# plt.ylim(-1.25,+1.25), plt.yticks([])\n",
    "\n",
    "plt.show()"
   ]
  }
 ],
 "metadata": {
  "kernelspec": {
   "display_name": "Python 3",
   "language": "python",
   "name": "python3"
  },
  "language_info": {
   "codemirror_mode": {
    "name": "ipython",
    "version": 3
   },
   "file_extension": ".py",
   "mimetype": "text/x-python",
   "name": "python",
   "nbconvert_exporter": "python",
   "pygments_lexer": "ipython3",
   "version": "3.5.2"
  }
 },
 "nbformat": 4,
 "nbformat_minor": 0
}
